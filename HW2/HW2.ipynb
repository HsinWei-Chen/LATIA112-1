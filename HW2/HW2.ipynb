{
  "nbformat": 4,
  "nbformat_minor": 0,
  "metadata": {
    "colab": {
      "provenance": []
    },
    "kernelspec": {
      "name": "python3",
      "display_name": "Python 3"
    },
    "language_info": {
      "name": "python"
    }
  },
  "cells": [
    {
      "cell_type": "code",
      "execution_count": null,
      "metadata": {
        "id": "GRgecHfFT8XF"
      },
      "outputs": [],
      "source": [
        "from selenium import webdriver\n",
        "from selenium.webdriver.common.by import By\n",
        "from selenium.webdriver.support.ui import WebDriverWait\n",
        "from selenium.webdriver.support import expected_conditions as EC\n",
        "from selenium.webdriver.support.ui import Select\n",
        "import bs4\n",
        "import csv"
      ]
    },
    {
      "cell_type": "code",
      "source": [
        "def scrape_rankings(url):\n",
        "    driver = webdriver.Chrome()\n",
        "    driver.get(url)\n",
        "    driver.fullscreen_window()\n",
        "\n",
        "    # Wait for the page to load (adjust the timeout as needed)\n",
        "    wait = WebDriverWait(driver, 10)\n",
        "    wait.until(EC.presence_of_element_located((By.CLASS_NAME, 'cols')))\n",
        "\n",
        "    # Assuming there is a dropdown for disciplines\n",
        "    discipline_dropdown = Select(driver.find_element(By.ID, 'filterDisciplines'))\n",
        "\n",
        "    result = [['World Rank', 'National Rank', 'University', 'Country', 'Scholar', 'Publication', 'D-index']]\n",
        "\n",
        "    # Iterate through each discipline in the dropdown\n",
        "    for index in range(1, len(discipline_dropdown.options)):\n",
        "        # Select discipline by index\n",
        "        discipline_dropdown.select_by_index(index)\n",
        "\n",
        "        # Wait for the page to load after selecting the discipline (adjust the timeout as needed)\n",
        "        wait.until(EC.presence_of_element_located((By.CLASS_NAME, 'cols')))\n",
        "\n",
        "        page_html = driver.page_source\n",
        "        info_columns = bs4.BeautifulSoup(page_html, 'html.parser').select('.cols.university-item.rankings-content__item')\n",
        "\n",
        "        for question_column in info_columns:\n",
        "            World = question_column.select_one('.col.col--3.py-0.px-0.position.border').text\n",
        "            National = question_column.select_one('.col.col--3.py-0.px-0.position').text\n",
        "            University_element = question_column.select_one('.lazyload')\n",
        "            University = University_element.text.strip() if University_element else \"N/A\"\n",
        "            Country = question_column.select_one('.sh').text\n",
        "            Scholar = question_column.select_one('.ranking.no-wrap').text\n",
        "            Publication = question_column.select_one('.col.col--3.py-0.ranking.no-wrap').text\n",
        "            D_index = question_column.select('.ranking.no-wrap')[1].text\n",
        "\n",
        "            # Extract alt text from the university image\n",
        "            alt_text = University_element['alt'] if University_element and 'alt' in University_element.attrs else \"N/A\"\n",
        "\n",
        "            col = [World, National, University, Country, Scholar, Publication, D_index, alt_text]\n",
        "            result.append(col)\n",
        "\n",
        "    driver.quit()\n",
        "    return result"
      ],
      "metadata": {
        "id": "kYgkafF9UMQq"
      },
      "execution_count": null,
      "outputs": []
    },
    {
      "cell_type": "code",
      "source": [
        "# List of URLs for different disciplines\n",
        "urls = [\n",
        "    \"https://research.com/university-rankings/physics\"\n",
        "]\n",
        "# Scraping data for each discipline\n",
        "all_results = []\n",
        "for url in urls:\n",
        "    discipline_results = scrape_rankings(url)\n",
        "    all_results.extend(discipline_results)"
      ],
      "metadata": {
        "id": "a3LD9bcDUMmt"
      },
      "execution_count": null,
      "outputs": []
    },
    {
      "cell_type": "code",
      "source": [
        "# Write the combined data to a CSV file\n",
        "with open('resultbs4_combined_alt.csv', 'w', newline='', encoding=\"utf-8\") as csvfile:\n",
        "    writer = csv.writer(csvfile)\n",
        "    writer.writerows(all_results)\n",
        "\n",
        "all_results"
      ],
      "metadata": {
        "id": "7fRabp_vUUQu"
      },
      "execution_count": null,
      "outputs": []
    }
  ]
}